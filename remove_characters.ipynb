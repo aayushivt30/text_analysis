{
 "cells": [
  {
   "cell_type": "code",
   "execution_count": 2,
   "metadata": {},
   "outputs": [
    {
     "name": "stdout",
     "output_type": "stream",
     "text": [
      "DataFrame with Cleaned Feedback:\n",
      "   user_id  ship_id        datetime  score  \\\n",
      "0    55284        0   6/7/2022 9:00      1   \n",
      "1    55318        1  6/7/2022 12:55      1   \n",
      "2    55341        2  6/7/2022 14:56      1   \n",
      "3    55342        2  6/7/2022 14:57      1   \n",
      "4    55347        3  6/7/2022 11:51      3   \n",
      "\n",
      "                                            feedback  \\\n",
      "0               I paid for it and it doesnâ€™t work.   \n",
      "1                                  DÃ¥rlig dekkning!   \n",
      "2                Voucher code doesnâ€™t seem to work   \n",
      "3  No free WiFi available in cabins, unable to bu...   \n",
      "4                                                 Ja   \n",
      "\n",
      "                                    feedback_english  \\\n",
      "0               I paid for it and it doesnâ€™t work.   \n",
      "1                                      Bad coverage!   \n",
      "2                Voucher code doesnâ€™t seem to work   \n",
      "3  No free WiFi available in cabins, unable to bu...   \n",
      "4                                                Yes   \n",
      "\n",
      "                                    cleaned_feedback  \n",
      "0                   I paid for it and it doesnt work  \n",
      "1                                       Bad coverage  \n",
      "2                   Voucher code doesnt seem to work  \n",
      "3  No free WiFi available in cabins unable to buy...  \n",
      "4                                                Yes  \n",
      "Cleaned feedbacks saved to: C:\\Users\\avtha\\Desktop\\University\\Semester 4\\Master thesis\\cleaned_feedback.csv\n"
     ]
    }
   ],
   "source": [
    "import pandas as pd\n",
    "import re\n",
    "\n",
    "# Read the translated CSV file\n",
    "df = pd.read_csv(r\"C:\\Users\\avtha\\Desktop\\University\\Semester 4\\Master thesis\\translated_feedback.csv\")\n",
    "\n",
    "# Function to remove special characters\n",
    "def remove_special_characters(text):\n",
    "    if isinstance(text, str):\n",
    "        # Replace non-alphanumeric characters with a space\n",
    "        cleaned_text = re.sub(r'[^a-zA-Z0-9\\s]', '', text)\n",
    "        return cleaned_text\n",
    "    else:\n",
    "        return text\n",
    "\n",
    "# Apply the function to the 'feedback_english' column\n",
    "df['cleaned_feedback'] = df['feedback_english'].apply(remove_special_characters)\n",
    "\n",
    "# Display the DataFrame with the cleaned feedback\n",
    "print(\"DataFrame with Cleaned Feedback:\")\n",
    "print(df.head())\n",
    "\n",
    "# Save the DataFrame to a new CSV file\n",
    "output_file_path = r\"C:\\Users\\avtha\\Desktop\\University\\Semester 4\\Master thesis\\cleaned_feedback.csv\"\n",
    "df.to_csv(output_file_path, index=False)\n",
    "\n",
    "# Display the output file location\n",
    "print(f\"Cleaned feedbacks saved to: {output_file_path}\")\n"
   ]
  },
  {
   "cell_type": "code",
   "execution_count": null,
   "metadata": {},
   "outputs": [],
   "source": []
  },
  {
   "cell_type": "code",
   "execution_count": null,
   "metadata": {},
   "outputs": [],
   "source": []
  },
  {
   "cell_type": "code",
   "execution_count": null,
   "metadata": {},
   "outputs": [],
   "source": []
  }
 ],
 "metadata": {
  "kernelspec": {
   "display_name": "Python 3",
   "language": "python",
   "name": "python3"
  },
  "language_info": {
   "codemirror_mode": {
    "name": "ipython",
    "version": 3
   },
   "file_extension": ".py",
   "mimetype": "text/x-python",
   "name": "python",
   "nbconvert_exporter": "python",
   "pygments_lexer": "ipython3",
   "version": "3.11.5"
  }
 },
 "nbformat": 4,
 "nbformat_minor": 2
}
