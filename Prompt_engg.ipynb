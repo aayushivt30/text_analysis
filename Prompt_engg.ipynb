{
 "cells": [
  {
   "cell_type": "markdown",
   "metadata": {},
   "source": [
    "Prompt: on GPT-3.5 turbo"
   ]
  },
  {
   "cell_type": "code",
   "execution_count": null,
   "metadata": {},
   "outputs": [],
   "source": [
    "import openai\n",
    "import os\n",
    "\n",
    "from dotenv import load_dotenv, find_dotenv\n",
    "_ = load_dotenv(find_dotenv()) # read local .env file\n",
    "\n",
    "openai.api_key  = os.getenv('OPENAI_API_KEY')"
   ]
  },
  {
   "cell_type": "code",
   "execution_count": null,
   "metadata": {},
   "outputs": [],
   "source": [
    "def get_completion(prompt, model=\"gpt-3.5-turbo\"):\n",
    "    messages = [{\"role\": \"user\", \"content\": prompt}]\n",
    "    response = openai.ChatCompletion.create(\n",
    "        model=model,\n",
    "        messages=messages,\n",
    "        temperature=0,    #between 0-1 - randomness\n",
    "    )\n",
    "    return response.choices[0].message[\"content\"]"
   ]
  },
  {
   "cell_type": "code",
   "execution_count": 6,
   "metadata": {},
   "outputs": [
    {
     "name": "stdout",
     "output_type": "stream",
     "text": [
      "The writer of the review is expressing a range of emotions, including frustration, disappointment, anger,\n",
      "confusion, satisfaction, and appreciation.\n",
      "\n",
      "Positive Feedback:\n",
      "The reviewer expresses satisfaction with the free wifi on the crossing over and appreciates the service being free.\n",
      "They also mention that it is great and good.\n",
      "\n",
      " Negative Feedback:\n",
      "The reviewer expresses frustration, disappointment, and anger over the poor signal, slow connection,\n",
      "having to pay for wifi, difficulty connecting, and the wifi not working at all.\n",
      "They also mention feeling wretched and very disappointed with the service.​\n"
     ]
    }
   ],
   "source": [
    "review=f\"\"\"\n",
    "I paid for it and it doesnt work\n",
    "Not allowing me to log on\n",
    "Ive had difficulty connecting to the wifi in the lounge on deck 7\n",
    "Of\n",
    "U need to buy a free WiFi and enter a code to use FREE WIFI\n",
    "Poor signal\n",
    "Dhshux\n",
    "Bad\n",
    "Have to pay rediculous\n",
    "Makes me pay\n",
    "Great\n",
    "Its free on the crossing over but now you charge\n",
    "It should be free the whole ride\n",
    "Slow\n",
    "It was free on trip and on the way back u have to pay\n",
    "Too slow\n",
    "Paying for 4 hours and only got 30 minutes of wifi out of 4 get it fixed\n",
    "Never any connection\n",
    "Idk how  to do it\n",
    "You have to pay 3pound for an hour\n",
    "It wont let me connect to the 20 minute free wifi\n",
    "The fact it is premium in the premium lounge  ouch\n",
    "Terrible\n",
    "I paid for wifi but my paid wifi isnt working\n",
    "Rubbish cant get on al all very disappointed\n",
    "nothing will load\n",
    "cannot get access\n",
    "cannot connect\n",
    "Its great\n",
    "its good\n",
    "Hard to connect and stupidly slow\n",
    "No internet\n",
    "It didnt work\n",
    "The WiFi on stenaline is a waste of time Little or poor signal Unable to connect Unable to strea\n",
    "Why am I payin\n",
    "Really poor connection and poor time limit of 20 minutes The Stena Estrid has free wifi for an hour\n",
    "Bad coverage across the decks\n",
    "Wretched\n",
    "Very poor WiFi does not even work for 20 mins\n",
    "\"\"\"\n",
    "\n",
    "prompt=f\"\"\"\n",
    "Identify a list of emotions that the writer of the\n",
    "following review is expressing.\n",
    "Make generalized paragraph of the above reviews and formulate it in 50 words.\n",
    "make 2 separate paragraphs to describe posive and negative sentiments each in 50 words. \n",
    "Make sure you give heading for posive and negative feedbacks.\n",
    "Review text: '''{review}'''\n",
    "\n",
    "\"\"\"\n",
    "response = get_completion(prompt)\n",
    "print(response)\n"
   ]
  },
  {
   "cell_type": "code",
   "execution_count": null,
   "metadata": {},
   "outputs": [],
   "source": []
  },
  {
   "cell_type": "code",
   "execution_count": null,
   "metadata": {},
   "outputs": [],
   "source": []
  }
 ],
 "metadata": {
  "kernelspec": {
   "display_name": "AI",
   "language": "python",
   "name": "python3"
  },
  "language_info": {
   "codemirror_mode": {
    "name": "ipython",
    "version": 3
   },
   "file_extension": ".py",
   "mimetype": "text/x-python",
   "name": "python",
   "nbconvert_exporter": "python",
   "pygments_lexer": "ipython3",
   "version": "3.9.18"
  }
 },
 "nbformat": 4,
 "nbformat_minor": 2
}
