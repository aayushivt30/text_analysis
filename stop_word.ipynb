{
 "cells": [
  {
   "cell_type": "code",
   "execution_count": 1,
   "id": "1c4106eb-6104-4210-81e0-36150d5baa27",
   "metadata": {},
   "outputs": [],
   "source": [
    "# Required libraries\n",
    "import pandas as pd"
   ]
  },
  {
   "cell_type": "code",
   "execution_count": 102,
   "id": "55d0c71a-d4ec-4495-920a-fc743c614de1",
   "metadata": {},
   "outputs": [],
   "source": [
    "\n",
    "\n",
    "# Load stop words\n",
    "stop_words_path = \"/home/aayushivt/Master_thesis/stopwords.txt\"  # Update with the actual path to your stop words file\n",
    "with open(stop_words_path, 'r') as file:\n",
    "    stop_words = set(word.strip().lower() for word in file.read().splitlines())\n",
    "\n",
    "# Load Excel data\n",
    "df = pd.read_excel(\"/home/aayushivt/Master_thesis/finalized_data.xlsx\")\n",
    "\n",
    "# Remove stop words from 'cleaned_feedback' column\n",
    "def remove_stop_words(text, stop_words):\n",
    "    if isinstance(text, str):\n",
    "        return ' '.join([word for word in text.split() if word.lower() not in stop_words])\n",
    "    return ''\n",
    "\n",
    "# Apply stop word removal and join text\n",
    "df['stop_feedback'] = df['cleaned_feedback'].apply(lambda x: remove_stop_words(x, stop_words))\n",
    "\n",
    "# Print to check if the stop words have been removed\n",
    "print(df['stop_feedback'].head())\n",
    "\n",
    "# Save processed data back to the original Excel file\n",
    "df.to_excel(\"/home/aayushivt/Master_thesis/finalized_data.xlsx\", index=False)\n"
   ]
  },
  {
   "cell_type": "code",
   "execution_count": 103,
   "id": "924df5aa-f873-4df1-b739-b07bc3e680ff",
   "metadata": {},
   "outputs": [
    {
     "data": {
      "text/plain": [
       "Id                  0\n",
       "user_id             0\n",
       "ship_id             0\n",
       "datetime            0\n",
       "score               0\n",
       "feedback            0\n",
       "feedback_english    1\n",
       "cleaned_feedback    0\n",
       "stop_feedback       0\n",
       "dtype: int64"
      ]
     },
     "execution_count": 103,
     "metadata": {},
     "output_type": "execute_result"
    }
   ],
   "source": [
    "\n",
    "\n",
    "# Load Excel data\n",
    "df = pd.read_excel(\"/home/aayushivt/Master_thesis/finalized_data.xlsx\")\n",
    "\n",
    "#check for missing values \n",
    "df.isnull().sum()"
   ]
  }
 ],
 "metadata": {
  "kernelspec": {
   "display_name": "Python 3 (ipykernel)",
   "language": "python",
   "name": "python3"
  },
  "language_info": {
   "codemirror_mode": {
    "name": "ipython",
    "version": 3
   },
   "file_extension": ".py",
   "mimetype": "text/x-python",
   "name": "python",
   "nbconvert_exporter": "python",
   "pygments_lexer": "ipython3",
   "version": "3.9.18"
  }
 },
 "nbformat": 4,
 "nbformat_minor": 5
}
