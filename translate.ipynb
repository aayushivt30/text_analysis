{
 "cells": [
  {
   "cell_type": "markdown",
   "metadata": {},
   "source": [
    "Load the file, translate and save file"
   ]
  },
  {
   "cell_type": "code",
   "execution_count": 26,
   "metadata": {},
   "outputs": [
    {
     "name": "stdout",
     "output_type": "stream",
     "text": [
      "Translation started at: Mon Jan 15 15:03:44 2024\n",
      "Translation finished at: Mon Jan 15 16:56:50 2024\n",
      "Translated feedbacks saved to: C:\\Users\\avtha\\Desktop\\University\\Semester 4\\Master thesis\\translated_feedback.csv\n"
     ]
    }
   ],
   "source": [
    "import pandas as pd\n",
    "from deep_translator import GoogleTranslator\n",
    "import time\n",
    "\n",
    "# Function to translate feedback to English with retries\n",
    "def translate_to_english(text, max_retries=5):\n",
    "    for _ in range(max_retries):\n",
    "        try:\n",
    "            translator = GoogleTranslator(source='auto', target='english')\n",
    "            translation = translator.translate(text)\n",
    "            return translation\n",
    "        except Exception as e:\n",
    "            print(f\"Error during translation: {e}\")\n",
    "            time.sleep(1)  # Add a delay before retrying\n",
    "    return \"Translation failed\"\n",
    "\n",
    "# Read the CSV file\n",
    "df = pd.read_csv(r\"C:\\Users\\avtha\\Desktop\\University\\Semester 4\\Master thesis\\customer_feedback.csv\")\n",
    "\n",
    "# Print start time\n",
    "start_time = time.time()\n",
    "print(\"Translation started at:\", time.ctime(start_time))\n",
    "\n",
    "# Translate the 'feedback' column\n",
    "df['feedback_english'] = df['feedback'].apply(translate_to_english)\n",
    "\n",
    "# Print finish time\n",
    "finish_time = time.time()\n",
    "print(\"Translation finished at:\", time.ctime(finish_time))\n",
    "\n",
    "# Save the translated DataFrame to a new CSV file\n",
    "output_file_path = r\"C:\\Users\\avtha\\Desktop\\University\\Semester 4\\Master thesis\\translated_feedback.csv\"\n",
    "df.to_csv(output_file_path, index=False)\n",
    "\n",
    "# Inform the user about the output file location\n",
    "print(f\"Translated feedbacks saved to: {output_file_path}\")\n"
   ]
  }
 ],
 "metadata": {
  "kernelspec": {
   "display_name": "Python 3",
   "language": "python",
   "name": "python3"
  },
  "language_info": {
   "codemirror_mode": {
    "name": "ipython",
    "version": 3
   },
   "file_extension": ".py",
   "mimetype": "text/x-python",
   "name": "python",
   "nbconvert_exporter": "python",
   "pygments_lexer": "ipython3",
   "version": "3.11.5"
  }
 },
 "nbformat": 4,
 "nbformat_minor": 2
}
